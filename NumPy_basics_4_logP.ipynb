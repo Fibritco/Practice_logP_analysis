{
 "cells": [
  {
   "cell_type": "code",
   "execution_count": 5,
   "id": "0e5a18b8",
   "metadata": {},
   "outputs": [
    {
     "data": {
      "text/html": [
       "<div>\n",
       "<style scoped>\n",
       "    .dataframe tbody tr th:only-of-type {\n",
       "        vertical-align: middle;\n",
       "    }\n",
       "\n",
       "    .dataframe tbody tr th {\n",
       "        vertical-align: top;\n",
       "    }\n",
       "\n",
       "    .dataframe thead th {\n",
       "        text-align: right;\n",
       "    }\n",
       "</style>\n",
       "<table border=\"1\" class=\"dataframe\">\n",
       "  <thead>\n",
       "    <tr style=\"text-align: right;\">\n",
       "      <th></th>\n",
       "      <th>Formula</th>\n",
       "      <th>logP</th>\n",
       "    </tr>\n",
       "  </thead>\n",
       "  <tbody>\n",
       "    <tr>\n",
       "      <th>0</th>\n",
       "      <td>C(C=CBr)N</td>\n",
       "      <td>0.3</td>\n",
       "    </tr>\n",
       "    <tr>\n",
       "      <th>1</th>\n",
       "      <td>CCC(CO)Br</td>\n",
       "      <td>1.3</td>\n",
       "    </tr>\n",
       "    <tr>\n",
       "      <th>2</th>\n",
       "      <td>[13CH3][13CH2][13CH2][13CH2][13CH2][13CH2]O</td>\n",
       "      <td>2.0</td>\n",
       "    </tr>\n",
       "    <tr>\n",
       "      <th>3</th>\n",
       "      <td>CCCOCCP</td>\n",
       "      <td>0.6</td>\n",
       "    </tr>\n",
       "    <tr>\n",
       "      <th>4</th>\n",
       "      <td>C(C(F)(F)F)F</td>\n",
       "      <td>1.7</td>\n",
       "    </tr>\n",
       "  </tbody>\n",
       "</table>\n",
       "</div>"
      ],
      "text/plain": [
       "                                       Formula  logP\n",
       "0                                    C(C=CBr)N   0.3\n",
       "1                                    CCC(CO)Br   1.3\n",
       "2  [13CH3][13CH2][13CH2][13CH2][13CH2][13CH2]O   2.0\n",
       "3                                      CCCOCCP   0.6\n",
       "4                                 C(C(F)(F)F)F   1.7"
      ]
     },
     "execution_count": 5,
     "metadata": {},
     "output_type": "execute_result"
    }
   ],
   "source": [
    "import numpy as np\n",
    "import pandas as pd\n",
    "import matplotlib.pyplot as plt\n",
    "\n",
    "df = pd.read_csv(\"C:\\\\Users\\\\Python\\\\Desktop\\\\ProjectsPy\\\\JupiterNotebook\\\\logP_dataset.csv\")\n",
    "df.columns = [\"Formula\", \"logP\"]  # adding title to columns\n",
    "df.head()\n"
   ]
  },
  {
   "cell_type": "code",
   "execution_count": 70,
   "id": "e34e1240",
   "metadata": {},
   "outputs": [
    {
     "name": "stdout",
     "output_type": "stream",
     "text": [
      "Numbers of Formuals =  14609\n"
     ]
    }
   ],
   "source": [
    "print(\"Numbers of Formuals = \", len(df))"
   ]
  },
  {
   "cell_type": "code",
   "execution_count": 6,
   "id": "268404f9",
   "metadata": {},
   "outputs": [
    {
     "data": {
      "text/plain": [
       "<AxesSubplot:title={'center':'ID vs. logP'}, ylabel='Frequency'>"
      ]
     },
     "execution_count": 6,
     "metadata": {},
     "output_type": "execute_result"
    },
    {
     "data": {
      "image/png": "[encoded data removed]",
      "text/plain": [
       "<Figure size 432x288 with 1 Axes>"
      ]
     },
     "metadata": {
      "needs_background": "light"
     },
     "output_type": "display_data"
    }
   ],
   "source": [
    "df.plot.hist(color='m', title='ID vs. logP',)"
   ]
  },
  {
   "cell_type": "code",
   "execution_count": 7,
   "id": "df98255e",
   "metadata": {},
   "outputs": [
    {
     "name": "stdout",
     "output_type": "stream",
     "text": [
      "Type of the df object =  <class 'pandas.core.frame.DataFrame'>\n"
     ]
    }
   ],
   "source": [
    "print(\"Type of the df object = \", type(df))"
   ]
  },
  {
   "cell_type": "code",
   "execution_count": 8,
   "id": "6f61a017",
   "metadata": {},
   "outputs": [
    {
     "data": {
      "text/plain": [
       "Index(['Formula', 'logP'], dtype='object')"
      ]
     },
     "execution_count": 8,
     "metadata": {},
     "output_type": "execute_result"
    }
   ],
   "source": [
    "df.columns"
   ]
  },
  {
   "cell_type": "code",
   "execution_count": 9,
   "id": "51f47d0c",
   "metadata": {},
   "outputs": [
    {
     "data": {
      "text/plain": [
       "Formula    C#CBr\n",
       "logP        -3.6\n",
       "dtype: object"
      ]
     },
     "execution_count": 9,
     "metadata": {},
     "output_type": "execute_result"
    }
   ],
   "source": [
    "df.min()"
   ]
  },
  {
   "cell_type": "code",
   "execution_count": 10,
   "id": "c290a9f7",
   "metadata": {},
   "outputs": [
    {
     "data": {
      "text/plain": [
       "Formula    [H][C@]1(CCC[C@@H]1F)[2H]\n",
       "logP                             6.2\n",
       "dtype: object"
      ]
     },
     "execution_count": 10,
     "metadata": {},
     "output_type": "execute_result"
    }
   ],
   "source": [
    "df.max()"
   ]
  },
  {
   "cell_type": "code",
   "execution_count": 11,
   "id": "734739ea",
   "metadata": {
    "scrolled": true
   },
   "outputs": [
    {
     "data": {
      "text/html": [
       "<div>\n",
       "<style scoped>\n",
       "    .dataframe tbody tr th:only-of-type {\n",
       "        vertical-align: middle;\n",
       "    }\n",
       "\n",
       "    .dataframe tbody tr th {\n",
       "        vertical-align: top;\n",
       "    }\n",
       "\n",
       "    .dataframe thead th {\n",
       "        text-align: right;\n",
       "    }\n",
       "</style>\n",
       "<table border=\"1\" class=\"dataframe\">\n",
       "  <thead>\n",
       "    <tr style=\"text-align: right;\">\n",
       "      <th></th>\n",
       "      <th>logP</th>\n",
       "    </tr>\n",
       "  </thead>\n",
       "  <tbody>\n",
       "    <tr>\n",
       "      <th>count</th>\n",
       "      <td>14609.000000</td>\n",
       "    </tr>\n",
       "    <tr>\n",
       "      <th>mean</th>\n",
       "      <td>0.998576</td>\n",
       "    </tr>\n",
       "    <tr>\n",
       "      <th>std</th>\n",
       "      <td>1.300486</td>\n",
       "    </tr>\n",
       "    <tr>\n",
       "      <th>min</th>\n",
       "      <td>-3.600000</td>\n",
       "    </tr>\n",
       "    <tr>\n",
       "      <th>25%</th>\n",
       "      <td>0.100000</td>\n",
       "    </tr>\n",
       "    <tr>\n",
       "      <th>50%</th>\n",
       "      <td>1.000000</td>\n",
       "    </tr>\n",
       "    <tr>\n",
       "      <th>75%</th>\n",
       "      <td>1.800000</td>\n",
       "    </tr>\n",
       "    <tr>\n",
       "      <th>max</th>\n",
       "      <td>6.200000</td>\n",
       "    </tr>\n",
       "  </tbody>\n",
       "</table>\n",
       "</div>"
      ],
      "text/plain": [
       "               logP\n",
       "count  14609.000000\n",
       "mean       0.998576\n",
       "std        1.300486\n",
       "min       -3.600000\n",
       "25%        0.100000\n",
       "50%        1.000000\n",
       "75%        1.800000\n",
       "max        6.200000"
      ]
     },
     "execution_count": 11,
     "metadata": {},
     "output_type": "execute_result"
    }
   ],
   "source": [
    "df.describe()"
   ]
  },
  {
   "cell_type": "code",
   "execution_count": 162,
   "id": "21a7a09c",
   "metadata": {},
   "outputs": [
    {
     "data": {
      "text/plain": [
       "Formula    0\n",
       "logP       0\n",
       "dtype: int64"
      ]
     },
     "execution_count": 162,
     "metadata": {},
     "output_type": "execute_result"
    }
   ],
   "source": [
    "pd.isnull(df).sum()"
   ]
  },
  {
   "cell_type": "markdown",
   "id": "fb82eb0a",
   "metadata": {},
   "source": [
    "## Primary code used to write class AtomContent() ## MARKdown\n",
    "df1 = pd.DataFrame(df[df.logP <= -3])\n",
    "print(\"Ilość formuł z logP <= -3 :\", len(df1))\n",
    "print()\n",
    "\n",
    "li_df1 = list(df1[\"Formula\"])\n",
    "\n",
    "di_df11 = []\n",
    "\n",
    "for i in li_df1: \n",
    "    di_df11.append({'H':i.count('H'), \n",
    "                    'C':i.count('C'), \n",
    "                    'O':i.count('O'),\n",
    "                    'N':i.count('N'),\n",
    "                    'S':i.count('S'),\n",
    "                    'P':i.count('P'),\n",
    "                    'Na':i.count('Na'),\n",
    "                    'Ca':i.count('Ca'),\n",
    "                    })\n",
    "     \n",
    "pd11 = pd.DataFrame(di_df11)\n",
    "print(pd11)\n",
    "print()\n",
    "H = pd11['H'].sum()\n",
    "print('Count H =', H, \"\\tŚrednia wartość w przedziale logP <= -3: \", round(H/len(df1), 2))\n",
    "C = pd11['C'].sum()\n",
    "print('Count C =', C, \"\\tŚrednia wartość w przedziale logP <= -3: \", round(C/len(df1), 2))\n",
    "O = pd11['O'].sum()\n",
    "print('Count O =', O, \"\\tŚrednia wartość w przedziale logP <= -3: \", round(O/len(df1), 2))\n",
    "N = pd11['N'].sum()\n",
    "print('Count N =', N, \"\\tŚrednia wartość w przedziale logP <= -3: \", round(N/len(df1), 2))\n",
    "S = pd11['S'].sum()\n",
    "print('Count S =', S, \"\\tŚrednia wartość w przedziale logP <= -3: \", round(S/len(df1), 2))\n",
    "P = pd11['P'].sum()\n",
    "print('Count P =', P, \"\\tŚrednia wartość w przedziale logP <= -3: \", round(P/len(df1), 2))\n",
    "Na = pd11['Na'].sum()\n",
    "print('Count Na =', Na, \"\\tŚrednia wartość w przedziale logP <= -3: \", round(Na/len(df1), 2))\n",
    "Ca = pd11['Ca'].sum()\n",
    "print('Count Ca =', Ca, \"\\tŚrednia wartość w przedziale logP <= -3: \", round(Ca/len(df1), 2))\n",
    "\n",
    "ax = [H, C, O, N, S, P, Na, Ca]\n",
    "x = ['H', 'C', 'O', 'N', 'S', 'P', 'Na', 'Ca']\n",
    "y = [round(i/len(df1), 2) for i in ax]  # średnia wartość występowania atomu w przedziale logP <= -3\n",
    "print()\n",
    "print(x)\n",
    "print(y)\n",
    "print()\n",
    "\n",
    "plt.bar(x,y)\n",
    "plt.xlabel('atomy')\n",
    "plt.ylabel('ilość')\n",
    "plt.show()\n"
   ]
  },
  {
   "cell_type": "code",
   "execution_count": 164,
   "id": "3f924ae8",
   "metadata": {},
   "outputs": [
    {
     "name": "stdout",
     "output_type": "stream",
     "text": [
      "131\n"
     ]
    }
   ],
   "source": [
    "df2 = pd.DataFrame(df[(df.logP > -3) & (df.logP <= -2)])\n",
    "print(len(df2))"
   ]
  },
  {
   "cell_type": "code",
   "execution_count": 165,
   "id": "c2feacc1",
   "metadata": {},
   "outputs": [],
   "source": [
    "class AtomContent():\n",
    "    \n",
    "    def __init__(self, bottom, up):\n",
    "        self.bottom = bottom\n",
    "        self.up = up\n",
    "        \n",
    "    def dataanalysis(self):\n",
    "        df1 = pd.DataFrame(df[(df.logP > self.bottom) & (df.logP <= self.up)])\n",
    "        print(f\"💥 Ilość formuł z logP w przedziale od {self.bottom} do {self.up} :\", len(df1))\n",
    "        print()\n",
    "        \n",
    "      \n",
    "        li_df1 = list(df1[\"Formula\"])\n",
    "\n",
    "        di_df11 = []\n",
    "\n",
    "        for i in li_df1: \n",
    "            di_df11.append({'H':i.count('H'), \n",
    "                            'C':i.count('C'), \n",
    "                            'O':i.count('O'),\n",
    "                            'N':i.count('N'),\n",
    "                            'S':i.count('S'),\n",
    "                            'P':i.count('P'),\n",
    "                            'Na':i.count('Na'),\n",
    "                            'Ca':i.count('Ca'),\n",
    "                            })\n",
    "\n",
    "        pd11 = pd.DataFrame(di_df11)\n",
    "        print(pd11)\n",
    "        print()\n",
    "        H = pd11['H'].sum()\n",
    "        print('Count H =', H, f\"\\tŚrednia wartość w przedziale logP od {self.bottom} do {self.up}: \", round(H/len(df1), 2))\n",
    "        C = pd11['C'].sum()\n",
    "        print('Count C =', C, f\"\\tŚrednia wartość w przedziale logP od {self.bottom} do {self.up}: \", round(C/len(df1), 2))\n",
    "        O = pd11['O'].sum()\n",
    "        print('Count O =', O, f\"\\tŚrednia wartość w przedziale logP od {self.bottom} do {self.up}: \", round(O/len(df1), 2))\n",
    "        N = pd11['N'].sum()\n",
    "        print('Count N =', N, f\"\\tŚrednia wartość w przedziale logP od {self.bottom} do {self.up}: \", round(N/len(df1), 2))\n",
    "        S = pd11['S'].sum()\n",
    "        print('Count S =', S, f\"\\tŚrednia wartość w przedziale logP od {self.bottom} do {self.up}: \", round(S/len(df1), 2))\n",
    "        P = pd11['P'].sum()\n",
    "        print('Count P =', P, f\"\\tŚrednia wartość w przedziale logP od {self.bottom} do {self.up}: \", round(P/len(df1), 2))\n",
    "        Na = pd11['Na'].sum()\n",
    "        print('Count Na =', Na, f\"\\tŚrednia wartość w przedziale logP od {self.bottom} do {self.up}: \", round(Na/len(df1), 2))\n",
    "        Ca = pd11['Ca'].sum()\n",
    "        print('Count Ca =', Ca, f\"\\tŚrednia wartość w przedziale logP od {self.bottom} do {self.up}: \", round(Ca/len(df1), 2))\n",
    "\n",
    "        ax = [H, C, O, N, S, P, Na, Ca]\n",
    "        x = ['H', 'C', 'O', 'N', 'S', 'P', 'Na', 'Ca']\n",
    "        y = [round(i/len(df1), 2) for i in ax]  # średnia wartość występowania atomu w przedziale logP <= -3\n",
    "        print()\n",
    "        print(x)\n",
    "        print(y)\n",
    "        print()\n",
    "\n",
    "        plt.bar(x,y)\n",
    "        plt.xlabel('atomy')\n",
    "        plt.ylabel('ilość')\n",
    "        plt.show()   \n",
    "        print('*' * 70)\n"
   ]
  },
  {
   "cell_type": "code",
   "execution_count": 167,
   "id": "19ab7d40",
   "metadata": {},
   "outputs": [
    {
     "name": "stdout",
     "output_type": "stream",
     "text": [
      "💥 Ilość formuł z logP w przedziale od -4 do -3 : 13\n",
      "\n",
      "    H  C  O  N  S  P  Na  Ca\n",
      "0   0  2  0  4  0  0   0   0\n",
      "1   0  1  0  5  0  0   0   0\n",
      "2   0  2  0  5  0  0   0   0\n",
      "3   0  1  1  4  0  0   0   0\n",
      "4   0  2  0  4  0  0   0   0\n",
      "5   0  1  0  6  0  0   0   0\n",
      "6   0  2  1  3  0  0   0   0\n",
      "7   0  2  1  3  0  0   0   0\n",
      "8   4  2  0  4  0  0   0   0\n",
      "9   2  1  0  6  0  0   0   0\n",
      "10  3  1  0  6  0  0   0   0\n",
      "11  0  2  1  4  0  0   0   0\n",
      "12  0  1  0  6  0  0   0   0\n",
      "\n",
      "Count H = 9 \tŚrednia wartość w przedziale logP od -4 do -3:  0.69\n",
      "Count C = 20 \tŚrednia wartość w przedziale logP od -4 do -3:  1.54\n",
      "Count O = 4 \tŚrednia wartość w przedziale logP od -4 do -3:  0.31\n",
      "Count N = 60 \tŚrednia wartość w przedziale logP od -4 do -3:  4.62\n",
      "Count S = 0 \tŚrednia wartość w przedziale logP od -4 do -3:  0.0\n",
      "Count P = 0 \tŚrednia wartość w przedziale logP od -4 do -3:  0.0\n",
      "Count Na = 0 \tŚrednia wartość w przedziale logP od -4 do -3:  0.0\n",
      "Count Ca = 0 \tŚrednia wartość w przedziale logP od -4 do -3:  0.0\n",
      "\n",
      "['H', 'C', 'O', 'N', 'S', 'P', 'Na', 'Ca']\n",
      "[0.69, 1.54, 0.31, 4.62, 0.0, 0.0, 0.0, 0.0]\n",
      "\n"
     ]
    },
    {
     "data": {
      "image/png": "[encoded data removed]",
      "text/plain": [
       "<Figure size 432x288 with 1 Axes>"
      ]
     },
     "metadata": {
      "needs_background": "light"
     },
     "output_type": "display_data"
    },
    {
     "name": "stdout",
     "output_type": "stream",
     "text": [
      "**********************************************************************\n",
      "💥 Ilość formuł z logP w przedziale od -3 do -2 : 131\n",
      "\n",
      "     H  C  O  N  S  P  Na  Ca\n",
      "0    0  1  0  3  0  1   0   0\n",
      "1    2  2  0  4  0  0   0   0\n",
      "2    0  1  0  4  1  0   0   0\n",
      "3    1  2  2  1  0  1   0   0\n",
      "4    0  2  3  1  0  0   0   0\n",
      "..  .. .. .. .. .. ..  ..  ..\n",
      "126  0  1  2  1  0  1   0   0\n",
      "127  0  2  2  2  0  0   0   0\n",
      "128  0  2  1  3  0  0   0   0\n",
      "129  0  1  3  2  0  0   0   0\n",
      "130  0  3  2  2  0  0   0   0\n",
      "\n",
      "[131 rows x 8 columns]\n",
      "\n",
      "Count H = 59 \tŚrednia wartość w przedziale logP od -3 do -2:  0.45\n",
      "Count C = 327 \tŚrednia wartość w przedziale logP od -3 do -2:  2.5\n",
      "Count O = 165 \tŚrednia wartość w przedziale logP od -3 do -2:  1.26\n",
      "Count N = 298 \tŚrednia wartość w przedziale logP od -3 do -2:  2.27\n",
      "Count S = 3 \tŚrednia wartość w przedziale logP od -3 do -2:  0.02\n",
      "Count P = 38 \tŚrednia wartość w przedziale logP od -3 do -2:  0.29\n",
      "Count Na = 0 \tŚrednia wartość w przedziale logP od -3 do -2:  0.0\n",
      "Count Ca = 0 \tŚrednia wartość w przedziale logP od -3 do -2:  0.0\n",
      "\n",
      "['H', 'C', 'O', 'N', 'S', 'P', 'Na', 'Ca']\n",
      "[0.45, 2.5, 1.26, 2.27, 0.02, 0.29, 0.0, 0.0]\n",
      "\n"
     ]
    },
    {
     "data": {
      "image/png": "[encoded data removed]",
      "text/plain": [
       "<Figure size 432x288 with 1 Axes>"
      ]
     },
     "metadata": {
      "needs_background": "light"
     },
     "output_type": "display_data"
    },
    {
     "name": "stdout",
     "output_type": "stream",
     "text": [
      "**********************************************************************\n",
      "💥 Ilość formuł z logP w przedziale od -2 do -1 : 759\n",
      "\n",
      "     H  C  O  N  S  P  Na  Ca\n",
      "0    0  4  2  1  0  0   0   0\n",
      "1    0  2  5  0  0  0   0   0\n",
      "2    0  2  0  0  0  2   0   0\n",
      "3    0  1  1  0  0  2   0   0\n",
      "4    0  3  1  2  0  0   0   0\n",
      "..  .. .. .. .. .. ..  ..  ..\n",
      "754  2  4  3  0  0  0   0   0\n",
      "755  0  4  0  3  0  0   0   0\n",
      "756  0  2  4  1  0  0   0   0\n",
      "757  0  3  3  0  0  0   0   0\n",
      "758  3  3  3  0  0  0   0   0\n",
      "\n",
      "[759 rows x 8 columns]\n",
      "\n",
      "Count H = 586 \tŚrednia wartość w przedziale logP od -2 do -1:  0.77\n",
      "Count C = 2098 \tŚrednia wartość w przedziale logP od -2 do -1:  2.76\n",
      "Count O = 1246 \tŚrednia wartość w przedziale logP od -2 do -1:  1.64\n",
      "Count N = 1051 \tŚrednia wartość w przedziale logP od -2 do -1:  1.38\n",
      "Count S = 50 \tŚrednia wartość w przedziale logP od -2 do -1:  0.07\n",
      "Count P = 219 \tŚrednia wartość w przedziale logP od -2 do -1:  0.29\n",
      "Count Na = 0 \tŚrednia wartość w przedziale logP od -2 do -1:  0.0\n",
      "Count Ca = 0 \tŚrednia wartość w przedziale logP od -2 do -1:  0.0\n",
      "\n",
      "['H', 'C', 'O', 'N', 'S', 'P', 'Na', 'Ca']\n",
      "[0.77, 2.76, 1.64, 1.38, 0.07, 0.29, 0.0, 0.0]\n",
      "\n"
     ]
    },
    {
     "data": {
      "image/png": "[encoded data removed]",
      "text/plain": [
       "<Figure size 432x288 with 1 Axes>"
      ]
     },
     "metadata": {
      "needs_background": "light"
     },
     "output_type": "display_data"
    },
    {
     "name": "stdout",
     "output_type": "stream",
     "text": [
      "**********************************************************************\n",
      "💥 Ilość formuł z logP w przedziale od -1 do 0 : 2576\n",
      "\n",
      "      H  C  O  N  S  P  Na  Ca\n",
      "0     0  2  1  1  0  0   0   0\n",
      "1     1  5  0  2  0  0   0   0\n",
      "2     0  3  2  0  1  0   0   0\n",
      "3     0  3  0  0  0  2   0   0\n",
      "4     1  5  1  1  0  0   0   0\n",
      "...  .. .. .. .. .. ..  ..  ..\n",
      "2571  0  1  4  0  0  0   0   0\n",
      "2572  0  4  0  0  0  2   0   0\n",
      "2573  0  3  0  2  0  0   0   0\n",
      "2574  0  1  0  0  0  3   0   0\n",
      "2575  0  4  1  1  1  0   0   0\n",
      "\n",
      "[2576 rows x 8 columns]\n",
      "\n",
      "Count H = 1556 \tŚrednia wartość w przedziale logP od -1 do 0:  0.6\n",
      "Count C = 8227 \tŚrednia wartość w przedziale logP od -1 do 0:  3.19\n",
      "Count O = 2750 \tŚrednia wartość w przedziale logP od -1 do 0:  1.07\n",
      "Count N = 2601 \tŚrednia wartość w przedziale logP od -1 do 0:  1.01\n",
      "Count S = 486 \tŚrednia wartość w przedziale logP od -1 do 0:  0.19\n",
      "Count P = 1036 \tŚrednia wartość w przedziale logP od -1 do 0:  0.4\n",
      "Count Na = 0 \tŚrednia wartość w przedziale logP od -1 do 0:  0.0\n",
      "Count Ca = 0 \tŚrednia wartość w przedziale logP od -1 do 0:  0.0\n",
      "\n",
      "['H', 'C', 'O', 'N', 'S', 'P', 'Na', 'Ca']\n",
      "[0.6, 3.19, 1.07, 1.01, 0.19, 0.4, 0.0, 0.0]\n",
      "\n"
     ]
    },
    {
     "data": {
      "image/png": "[encoded data removed]",
      "text/plain": [
       "<Figure size 432x288 with 1 Axes>"
      ]
     },
     "metadata": {
      "needs_background": "light"
     },
     "output_type": "display_data"
    },
    {
     "name": "stdout",
     "output_type": "stream",
     "text": [
      "**********************************************************************\n",
      "💥 Ilość formuł z logP w przedziale od 0 do 1 : 4138\n",
      "\n",
      "      H  C  O  N  S  P  Na  Ca\n",
      "0     0  3  0  1  0  0   0   0\n",
      "1     0  5  1  0  0  1   0   0\n",
      "2     0  6  0  1  1  0   0   0\n",
      "3     0  5  1  1  0  0   0   0\n",
      "4     0  3  2  0  1  0   0   0\n",
      "...  .. .. .. .. .. ..  ..  ..\n",
      "4133  0  2  2  0  0  0   0   0\n",
      "4134  0  4  1  0  1  0   0   0\n",
      "4135  0  5  0  1  0  0   0   0\n",
      "4136  0  4  0  2  0  0   0   0\n",
      "4137  1  2  1  0  0  0   0   0\n",
      "\n",
      "[4138 rows x 8 columns]\n",
      "\n",
      "Count H = 1994 \tŚrednia wartość w przedziale logP od 0 do 1:  0.48\n",
      "Count C = 14134 \tŚrednia wartość w przedziale logP od 0 do 1:  3.42\n",
      "Count O = 3247 \tŚrednia wartość w przedziale logP od 0 do 1:  0.78\n",
      "Count N = 2392 \tŚrednia wartość w przedziale logP od 0 do 1:  0.58\n",
      "Count S = 1672 \tŚrednia wartość w przedziale logP od 0 do 1:  0.4\n",
      "Count P = 1021 \tŚrednia wartość w przedziale logP od 0 do 1:  0.25\n",
      "Count Na = 0 \tŚrednia wartość w przedziale logP od 0 do 1:  0.0\n",
      "Count Ca = 0 \tŚrednia wartość w przedziale logP od 0 do 1:  0.0\n",
      "\n",
      "['H', 'C', 'O', 'N', 'S', 'P', 'Na', 'Ca']\n",
      "[0.48, 3.42, 0.78, 0.58, 0.4, 0.25, 0.0, 0.0]\n",
      "\n"
     ]
    },
    {
     "data": {
      "image/png": "[encoded data removed]",
      "text/plain": [
       "<Figure size 432x288 with 1 Axes>"
      ]
     },
     "metadata": {
      "needs_background": "light"
     },
     "output_type": "display_data"
    },
    {
     "name": "stdout",
     "output_type": "stream",
     "text": [
      "**********************************************************************\n",
      "💥 Ilość formuł z logP w przedziale od 1 do 2 : 4028\n",
      "\n",
      "      H  C  O  N  S  P  Na  Ca\n",
      "0     0  4  1  0  0  0   0   0\n",
      "1     6  6  1  0  0  0   0   0\n",
      "2     0  2  0  0  0  0   0   0\n",
      "3     2  5  0  0  0  0   0   0\n",
      "4     0  5  1  0  0  0   0   0\n",
      "...  .. .. .. .. .. ..  ..  ..\n",
      "4023  1  1  0  0  0  0   0   0\n",
      "4024  1  6  1  0  0  0   0   0\n",
      "4025  0  3  1  0  0  0   0   0\n",
      "4026  3  1  0  0  0  0   0   0\n",
      "4027  0  3  0  1  2  0   0   0\n",
      "\n",
      "[4028 rows x 8 columns]\n",
      "\n",
      "Count H = 2084 \tŚrednia wartość w przedziale logP od 1 do 2:  0.52\n",
      "Count C = 15470 \tŚrednia wartość w przedziale logP od 1 do 2:  3.84\n",
      "Count O = 1756 \tŚrednia wartość w przedziale logP od 1 do 2:  0.44\n",
      "Count N = 1053 \tŚrednia wartość w przedziale logP od 1 do 2:  0.26\n",
      "Count S = 2008 \tŚrednia wartość w przedziale logP od 1 do 2:  0.5\n",
      "Count P = 481 \tŚrednia wartość w przedziale logP od 1 do 2:  0.12\n",
      "Count Na = 0 \tŚrednia wartość w przedziale logP od 1 do 2:  0.0\n",
      "Count Ca = 0 \tŚrednia wartość w przedziale logP od 1 do 2:  0.0\n",
      "\n",
      "['H', 'C', 'O', 'N', 'S', 'P', 'Na', 'Ca']\n",
      "[0.52, 3.84, 0.44, 0.26, 0.5, 0.12, 0.0, 0.0]\n",
      "\n"
     ]
    },
    {
     "data": {
      "image/png": "[encoded data removed]",
      "text/plain": [
       "<Figure size 432x288 with 1 Axes>"
      ]
     },
     "metadata": {
      "needs_background": "light"
     },
     "output_type": "display_data"
    },
    {
     "name": "stdout",
     "output_type": "stream",
     "text": [
      "**********************************************************************\n",
      "💥 Ilość formuł z logP w przedziale od 2 do 3 : 2100\n",
      "\n",
      "      H  C  O  N  S  P  Na  Ca\n",
      "0     0  5  0  0  0  0   0   0\n",
      "1     0  3  0  0  1  0   0   0\n",
      "2     0  5  0  0  0  0   0   0\n",
      "3     0  6  0  0  0  0   0   0\n",
      "4     0  2  0  0  0  0   0   0\n",
      "...  .. .. .. .. .. ..  ..  ..\n",
      "2095  3  7  1  0  0  0   0   0\n",
      "2096  0  6  0  0  1  0   0   0\n",
      "2097  0  4  0  0  2  0   0   0\n",
      "2098  0  6  0  0  1  0   0   0\n",
      "2099  0  4  0  0  1  0   0   0\n",
      "\n",
      "[2100 rows x 8 columns]\n",
      "\n",
      "Count H = 1520 \tŚrednia wartość w przedziale logP od 2 do 3:  0.72\n",
      "Count C = 9181 \tŚrednia wartość w przedziale logP od 2 do 3:  4.37\n",
      "Count O = 208 \tŚrednia wartość w przedziale logP od 2 do 3:  0.1\n",
      "Count N = 151 \tŚrednia wartość w przedziale logP od 2 do 3:  0.07\n",
      "Count S = 927 \tŚrednia wartość w przedziale logP od 2 do 3:  0.44\n",
      "Count P = 94 \tŚrednia wartość w przedziale logP od 2 do 3:  0.04\n",
      "Count Na = 0 \tŚrednia wartość w przedziale logP od 2 do 3:  0.0\n",
      "Count Ca = 0 \tŚrednia wartość w przedziale logP od 2 do 3:  0.0\n",
      "\n",
      "['H', 'C', 'O', 'N', 'S', 'P', 'Na', 'Ca']\n",
      "[0.72, 4.37, 0.1, 0.07, 0.44, 0.04, 0.0, 0.0]\n",
      "\n"
     ]
    },
    {
     "data": {
      "image/png": "[encoded data removed]",
      "text/plain": [
       "<Figure size 432x288 with 1 Axes>"
      ]
     },
     "metadata": {
      "needs_background": "light"
     },
     "output_type": "display_data"
    },
    {
     "name": "stdout",
     "output_type": "stream",
     "text": [
      "**********************************************************************\n",
      "💥 Ilość formuł z logP w przedziale od 3 do 4 : 672\n",
      "\n",
      "     H  C  O  N  S  P  Na  Ca\n",
      "0    1  8  0  0  0  0   0   0\n",
      "1    0  3  0  0  0  0   0   0\n",
      "2    1  8  0  0  0  0   0   0\n",
      "3    1  6  0  0  0  0   0   0\n",
      "4    0  4  0  0  0  0   0   0\n",
      "..  .. .. .. .. .. ..  ..  ..\n",
      "667  1  6  0  0  0  0   0   0\n",
      "668  6  6  0  0  0  0   0   0\n",
      "669  1  6  0  0  0  0   0   0\n",
      "670  1  7  0  0  0  0   0   0\n",
      "671  2  6  0  0  0  0   0   0\n",
      "\n",
      "[672 rows x 8 columns]\n",
      "\n",
      "Count H = 1059 \tŚrednia wartość w przedziale logP od 3 do 4:  1.58\n",
      "Count C = 3960 \tŚrednia wartość w przedziale logP od 3 do 4:  5.89\n",
      "Count O = 10 \tŚrednia wartość w przedziale logP od 3 do 4:  0.01\n",
      "Count N = 3 \tŚrednia wartość w przedziale logP od 3 do 4:  0.0\n",
      "Count S = 75 \tŚrednia wartość w przedziale logP od 3 do 4:  0.11\n",
      "Count P = 4 \tŚrednia wartość w przedziale logP od 3 do 4:  0.01\n",
      "Count Na = 0 \tŚrednia wartość w przedziale logP od 3 do 4:  0.0\n",
      "Count Ca = 0 \tŚrednia wartość w przedziale logP od 3 do 4:  0.0\n",
      "\n",
      "['H', 'C', 'O', 'N', 'S', 'P', 'Na', 'Ca']\n",
      "[1.58, 5.89, 0.01, 0.0, 0.11, 0.01, 0.0, 0.0]\n",
      "\n"
     ]
    },
    {
     "data": {
      "image/png": "[encoded data removed]",
      "text/plain": [
       "<Figure size 432x288 with 1 Axes>"
      ]
     },
     "metadata": {
      "needs_background": "light"
     },
     "output_type": "display_data"
    },
    {
     "name": "stdout",
     "output_type": "stream",
     "text": [
      "**********************************************************************\n",
      "💥 Ilość formuł z logP w przedziale od 4 do 5 : 187\n",
      "\n",
      "     H   C  O  N  S  P  Na  Ca\n",
      "0    1   8  0  0  0  0   0   0\n",
      "1    0   8  0  0  0  0   0   0\n",
      "2    1   8  0  0  0  0   0   0\n",
      "3    1  10  0  0  0  0   0   0\n",
      "4    0   6  0  0  0  0   0   0\n",
      "..  ..  .. .. .. .. ..  ..  ..\n",
      "182  0   5  0  0  0  0   0   0\n",
      "183  0   8  0  0  0  0   0   0\n",
      "184  1   7  0  0  0  0   0   0\n",
      "185  1   9  0  0  0  0   0   0\n",
      "186  1   8  0  0  0  0   0   0\n",
      "\n",
      "[187 rows x 8 columns]\n",
      "\n",
      "Count H = 392 \tŚrednia wartość w przedziale logP od 4 do 5:  2.1\n",
      "Count C = 1433 \tŚrednia wartość w przedziale logP od 4 do 5:  7.66\n",
      "Count O = 0 \tŚrednia wartość w przedziale logP od 4 do 5:  0.0\n",
      "Count N = 0 \tŚrednia wartość w przedziale logP od 4 do 5:  0.0\n",
      "Count S = 0 \tŚrednia wartość w przedziale logP od 4 do 5:  0.0\n",
      "Count P = 0 \tŚrednia wartość w przedziale logP od 4 do 5:  0.0\n",
      "Count Na = 0 \tŚrednia wartość w przedziale logP od 4 do 5:  0.0\n",
      "Count Ca = 0 \tŚrednia wartość w przedziale logP od 4 do 5:  0.0\n",
      "\n",
      "['H', 'C', 'O', 'N', 'S', 'P', 'Na', 'Ca']\n",
      "[2.1, 7.66, 0.0, 0.0, 0.0, 0.0, 0.0, 0.0]\n",
      "\n"
     ]
    },
    {
     "data": {
      "image/png": "[encoded data removed]",
      "text/plain": [
       "<Figure size 432x288 with 1 Axes>"
      ]
     },
     "metadata": {
      "needs_background": "light"
     },
     "output_type": "display_data"
    },
    {
     "name": "stdout",
     "output_type": "stream",
     "text": [
      "**********************************************************************\n",
      "💥 Ilość formuł z logP w przedziale od 5 do 6 : 4\n",
      "\n",
      "   H   C  O  N  S  P  Na  Ca\n",
      "0  0  10  0  0  0  0   0   0\n",
      "1  0   6  0  0  0  0   0   0\n",
      "2  0   9  0  0  0  0   0   0\n",
      "3  0   8  0  0  0  0   0   0\n",
      "\n",
      "Count H = 0 \tŚrednia wartość w przedziale logP od 5 do 6:  0.0\n",
      "Count C = 33 \tŚrednia wartość w przedziale logP od 5 do 6:  8.25\n",
      "Count O = 0 \tŚrednia wartość w przedziale logP od 5 do 6:  0.0\n",
      "Count N = 0 \tŚrednia wartość w przedziale logP od 5 do 6:  0.0\n",
      "Count S = 0 \tŚrednia wartość w przedziale logP od 5 do 6:  0.0\n",
      "Count P = 0 \tŚrednia wartość w przedziale logP od 5 do 6:  0.0\n",
      "Count Na = 0 \tŚrednia wartość w przedziale logP od 5 do 6:  0.0\n",
      "Count Ca = 0 \tŚrednia wartość w przedziale logP od 5 do 6:  0.0\n",
      "\n",
      "['H', 'C', 'O', 'N', 'S', 'P', 'Na', 'Ca']\n",
      "[0.0, 8.25, 0.0, 0.0, 0.0, 0.0, 0.0, 0.0]\n",
      "\n"
     ]
    },
    {
     "data": {
      "image/png": "[encoded data removed]",
      "text/plain": [
       "<Figure size 432x288 with 1 Axes>"
      ]
     },
     "metadata": {
      "needs_background": "light"
     },
     "output_type": "display_data"
    },
    {
     "name": "stdout",
     "output_type": "stream",
     "text": [
      "**********************************************************************\n"
     ]
    }
   ],
   "source": [
    "\"\"\"\n",
    "💥objects of the AtomContent() classes with appropriate logP range 💥\n",
    "\"\"\"\n",
    "AtomContent(-4, -3).dataanalysis()\n",
    "AtomContent(-3, -2).dataanalysis()\n",
    "AtomContent(-2, -1).dataanalysis()\n",
    "AtomContent(-1, 0).dataanalysis()\n",
    "AtomContent(0, 1).dataanalysis()\n",
    "AtomContent(1, 2).dataanalysis()\n",
    "AtomContent(2, 3).dataanalysis()\n",
    "AtomContent(3, 4).dataanalysis()\n",
    "AtomContent(4, 5).dataanalysis()\n",
    "AtomContent(5, 6).dataanalysis()"
   ]
  },
  {
   "cell_type": "code",
   "execution_count": null,
   "id": "8a9695f6",
   "metadata": {},
   "outputs": [],
   "source": []
  },
  {
   "cell_type": "code",
   "execution_count": null,
   "id": "9a7e68d5",
   "metadata": {},
   "outputs": [],
   "source": []
  },
  {
   "cell_type": "code",
   "execution_count": null,
   "id": "fdad26b6",
   "metadata": {},
   "outputs": [],
   "source": []
  }
 ],
 "metadata": {
  "kernelspec": {
   "display_name": "Python 3",
   "language": "python",
   "name": "python3"
  },
  "language_info": {
   "codemirror_mode": {
    "name": "ipython",
    "version": 3
   },
   "file_extension": ".py",
   "mimetype": "text/x-python",
   "name": "python",
   "nbconvert_exporter": "python",
   "pygments_lexer": "ipython3",
   "version": "3.8.8"
  }
 },
 "nbformat": 4,
 "nbformat_minor": 5
}
